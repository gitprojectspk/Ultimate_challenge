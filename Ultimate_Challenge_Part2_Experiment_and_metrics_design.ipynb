{
 "cells": [
  {
   "cell_type": "markdown",
   "id": "7f7b89f4",
   "metadata": {},
   "source": [
    "###### Part 2 ‐ Experiment and metrics design\n",
    "The neighboring cities of Gotham and Metropolis have complementary circadian rhythms: \n",
    "on weekdays, Ultimate Gotham is most active at night, and Ultimate Metropolis is most active\n",
    "during the day. On weekends, there is reasonable activity in both cities.\n",
    "\n",
    "However, a toll bridge, with a two way toll, between the two cities causes driver partners to tend\n",
    "to be exclusive to each city. The Ultimate managers of city operations for the two cities have\n",
    "proposed an experiment to encourage driver partners to be available in both cities, by\n",
    "reimbursing all toll costs.\n",
    "\n",
    "1) What would you choose as the key measure of success of this experiment in\n",
    "encouraging driver partners to serve both cities, and why would you choose this metric?\n",
    "\n",
    "#### Answer :\n",
    "- I will choose \"Reimbursement Toll Cost\" as the metric to predict success of this experiment.\n",
    "- If this metric values increases, which means more drivers are using the two way toll as the amount would get reimbursed. which will show sucess of the experiment.\n",
    "- If this metric values decreases, that means experiemnt is not success.\n",
    "\n",
    "\n",
    "2) Describe a practical experiment you would design to compare the effectiveness of the\n",
    "proposed change in relation to the key measure of success. Please provide details on:\n",
    "a) how you will implement the experiment\n",
    "b) what statistical test(s) you will conduct to verify the significance of the\n",
    "observation\n",
    "c) how you would interpret the results and provide recommendations to the city\n",
    "operations team along with any caveats.\n",
    "\n",
    "#### Answer : \n",
    "- We would need the data like trvel from city, travel to city, date of travel, time of travel, one way toll cost, two way toll cost, Toll cost reimbursed.\n",
    "- Data related to drivers is also useful. e.g if the driver belongs to either of the city, then their travel time,city preference would change. So we can also collect driver's city data.\n",
    "- Driver's data can be useful to find the relation with travel time. e.g some people may not want to drive during peak hour.\n",
    "- Using observed patterns in the data, we can create a predictive model to show the experiemnt's result to city operations team in the form of presentation.  \n",
    "\n",
    "\n",
    "Note: The two cities of Gotham and Metropolis are not in the provided dataset; however, you do\n",
    "not need this information to answer Part 2."
   ]
  },
  {
   "cell_type": "code",
   "execution_count": null,
   "id": "b28219cd",
   "metadata": {},
   "outputs": [],
   "source": []
  }
 ],
 "metadata": {
  "kernelspec": {
   "display_name": "Python 3",
   "language": "python",
   "name": "python3"
  },
  "language_info": {
   "codemirror_mode": {
    "name": "ipython",
    "version": 3
   },
   "file_extension": ".py",
   "mimetype": "text/x-python",
   "name": "python",
   "nbconvert_exporter": "python",
   "pygments_lexer": "ipython3",
   "version": "3.8.8"
  }
 },
 "nbformat": 4,
 "nbformat_minor": 5
}
